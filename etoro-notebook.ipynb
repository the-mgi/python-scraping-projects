{
 "cells": [
  {
   "cell_type": "code",
   "execution_count": null,
   "metadata": {},
   "outputs": [],
   "source": [
    "import requests\n",
    "from requests_html import HTML\n",
    "import json\n",
    "import threading\n",
    "from selenium import webdriver"
   ]
  },
  {
   "cell_type": "code",
   "execution_count": null,
   "metadata": {},
   "outputs": [],
   "source": [
    "URL = \"https://www.etoro.com/discover/markets/stocks/exchange/nasdaq\"\n",
    "browser = webdriver.Chrome()\n",
    "browser.get(URL)"
   ]
  },
  {
   "cell_type": "code",
   "execution_count": null,
   "metadata": {},
   "outputs": [],
   "source": [
    "final_list = []\n",
    "def main_function(browser, URL=\"https://www.etoro.com/discover/markets/stocks/exchange/nasdaq\", open_browser_required=False):\n",
    "    if open_browser_required:\n",
    "        browser.get(URL)\n",
    "        \n",
    "    all_cards = browser.find_elements_by_tag_name('et-instrument-card')\n",
    "    for single_card in all_cards:\n",
    "        \n",
    "        title = single_card.find_element_by_xpath('//div[@automation-id=\"trade-item-full-name\"]').get_attribute('innerHTML')\n",
    "        image_link = single_card.find_element_by_tag_name('img').get_attribute('src')\n",
    "        symbol = single_card.find_element_by_class_name('symbol').get_attribute('innerText')\n",
    "        \n",
    "        list_h6 = single_card.find_elements_by_tag_name('h6')\n",
    "        change = list_h6[0].get_attribute('innerText')\n",
    "        percentage = list_h6[1].get_attribute('innerText')\n",
    "        \n",
    "        buy_sell_options = single_card.find_elements_by_class_name('trade-button-title')\n",
    "        buy_sell_values = single_card.find_elements_by_class_name('price')\n",
    "        buy_sell_values_decimal = single_card.find_elements_by_class_name('after-decimal')\n",
    "        \n",
    "        final_object = {\n",
    "            \"symbol\": symbol,\n",
    "            \"full_name\": title,\n",
    "            \"change\": change,\n",
    "            \"percentage_changed_value\": percentage,\n",
    "            \"image_link\": image_link,\n",
    "            buy_sell_options[0].get_attribute('innerText'): buy_sell_values[0].get_attribute('innerText'),\n",
    "            buy_sell_options[1].get_attribute('innerText'): buy_sell_values[1].get_attribute('innerText')\n",
    "        }\n",
    "        \n",
    "        final_list.append(final_object)\n",
    "        \n",
    "    right_click_button = browser.find_element_by_xpath('//a[@automation-id=\"discover-market-next-button\"]')\n",
    "    if (right_click_button.get_attribute('class').find('disabled') < 0):\n",
    "        span_tag = right_click_button.find_element_by_tag_name('span')\n",
    "        span_tag.click()\n",
    "        main_function(browser, URL, open_browser_required)\n",
    "        return"
   ]
  },
  {
   "cell_type": "code",
   "execution_count": null,
   "metadata": {},
   "outputs": [],
   "source": [
    "def write_json(list_required, file_name):\n",
    "    with open (f'{file_name}.json', 'w', encoding='utf-8') as file_:\n",
    "    json.dump(list_required, file_, ensure_ascii=False)"
   ]
  },
  {
   "cell_type": "code",
   "execution_count": null,
   "metadata": {},
   "outputs": [],
   "source": [
    "main_function(browser)"
   ]
  },
  {
   "cell_type": "code",
   "execution_count": null,
   "metadata": {},
   "outputs": [],
   "source": [
    "right_click_button = browser.find_element_by_xpath('//a[@automation-id=\"discover-market-next-button\"]')\n",
    "span_tag = right_click_button.find_element_by_tag_name('span')\n",
    "span_tag.click()"
   ]
  },
  {
   "cell_type": "code",
   "execution_count": null,
   "metadata": {},
   "outputs": [],
   "source": []
  }
 ],
 "metadata": {
  "kernelspec": {
   "display_name": "Python 3",
   "language": "python",
   "name": "python3"
  },
  "language_info": {
   "codemirror_mode": {
    "name": "ipython",
    "version": 3
   },
   "file_extension": ".py",
   "mimetype": "text/x-python",
   "name": "python",
   "nbconvert_exporter": "python",
   "pygments_lexer": "ipython3",
   "version": "3.9.1"
  }
 },
 "nbformat": 4,
 "nbformat_minor": 1
}
