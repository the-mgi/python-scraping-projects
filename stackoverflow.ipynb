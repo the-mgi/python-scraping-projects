{
 "cells": [
  {
   "cell_type": "code",
   "execution_count": 1,
   "metadata": {
    "pycharm": {
     "name": "#%%\n"
    }
   },
   "outputs": [],
   "source": [
    "import requests\n",
    "from requests_html import HTML\n",
    "import pandas as pd"
   ]
  },
  {
   "cell_type": "code",
   "execution_count": 9,
   "metadata": {},
   "outputs": [
    {
     "name": "stdout",
     "output_type": "stream",
     "text": [
      "Records Done: 50\n",
      "Records Done: 100\n",
      "Records Done: 150\n",
      "Records Done: 200\n",
      "Records Done: 250\n",
      "Records Done: 300\n",
      "Records Done: 350\n",
      "Records Done: 400\n",
      "Records Done: 450\n",
      "Records Done: 500\n",
      "Records Done: 550\n",
      "Records Done: 600\n",
      "Records Done: 650\n",
      "Records Done: 700\n",
      "Records Done: 750\n",
      "Records Done: 800\n",
      "Records Done: 850\n",
      "Records Done: 900\n",
      "Records Done: 950\n",
      "Records Done: 1000\n",
      "Records Done: 1050\n",
      "Records Done: 1100\n",
      "Records Done: 1150\n",
      "Records Done: 1200\n",
      "Records Done: 1250\n",
      "Records Done: 1300\n",
      "Records Done: 1350\n",
      "Records Done: 1400\n",
      "Records Done: 1450\n",
      "Records Done: 1500\n",
      "Records Done: 1550\n",
      "Records Done: 1600\n",
      "Records Done: 1650\n",
      "Records Done: 1700\n",
      "Records Done: 1750\n",
      "Records Done: 1800\n",
      "Records Done: 1850\n",
      "Records Done: 1900\n",
      "Records Done: 1950\n",
      "Records Done: 2000\n",
      "Records Done: 2050\n",
      "Records Done: 2100\n",
      "Records Done: 2150\n",
      "Records Done: 2200\n",
      "Records Done: 2250\n",
      "Records Done: 2300\n",
      "Records Done: 2350\n",
      "Records Done: 2400\n",
      "Records Done: 2450\n",
      "Records Done: 2500\n"
     ]
    }
   ],
   "source": [
    "def scrape(page_size = 50, page_number = 1, tag = 'python', tab = 'votes', count = 0):\n",
    "    final_matrix = []\n",
    "    while count < 2500:\n",
    "        url = f'https://stackoverflow.com/questions/tagged/{tag}?tab={tab}&page={page_number}&pagesize={page_size}'\n",
    "        r = requests.get(url)\n",
    "        r_html = HTML(html=r.text)\n",
    "        all_quests = r_html.find(\".question-summary\")\n",
    "        header = [\"Question\", \"Votes\", \"Keywords\", \"Page Link\"]\n",
    "        for single_quest in all_quests:\n",
    "            h3 = single_quest.find(\"h3\")[0]\n",
    "            question = h3.text\n",
    "            question_id = h3.find(\"a\")\n",
    "            question_id = list(question_id[0].links)[0].split(\"/\")[2]\n",
    "            page_link = f'https://stackoverflow.com/questions/{question_id}'\n",
    "            votes = single_quest.find(\"strong\")[0].text\n",
    "            tags = single_quest.find(\".tags\")[0].find(\"a\")\n",
    "            tags = [tag.text for tag in tags]\n",
    "            tags = \", \".join(tags)\n",
    "            final_matrix.append([question, votes, tags, page_link])\n",
    "        count = len(final_matrix)\n",
    "        page_number += 1\n",
    "        print(f'Records Done: {len(final_matrix)}')\n"
   ]
  },
  {
   "cell_type": "code",
   "execution_count": 11,
   "metadata": {
    "pycharm": {
     "name": "#%%\n"
    }
   },
   "outputs": [
    {
     "data": {
      "text/plain": [
       "(2500, 4)"
      ]
     },
     "execution_count": 11,
     "metadata": {},
     "output_type": "execute_result"
    }
   ],
   "source": [
    "df = pd.DataFrame(final_matrix, columns=header)\n",
    "df.to_csv('test.csv', index=True)\n",
    "df.shape\n"
   ]
  }
 ],
 "metadata": {
  "kernelspec": {
   "display_name": "Python 3",
   "language": "python",
   "name": "python3"
  },
  "language_info": {
   "codemirror_mode": {
    "name": "ipython",
    "version": 3
   },
   "file_extension": ".py",
   "mimetype": "text/x-python",
   "name": "python",
   "nbconvert_exporter": "python",
   "pygments_lexer": "ipython3",
   "version": "3.8.5"
  }
 },
 "nbformat": 4,
 "nbformat_minor": 1
}