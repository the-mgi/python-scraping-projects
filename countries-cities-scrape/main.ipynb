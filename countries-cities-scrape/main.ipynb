{
 "cells": [
  {
   "cell_type": "code",
   "execution_count": null,
   "metadata": {},
   "outputs": [],
   "source": [
    "import requests\n",
    "from requests_html import HTML\n",
    "import json"
   ]
  },
  {
   "cell_type": "code",
   "execution_count": null,
   "metadata": {},
   "outputs": [],
   "source": [
    "file_input_countries = open(\"job-portal-countries-list-dump.csv\", \"r\")\n",
    "all_countries = file_input_countries.readlines()\n",
    "file_input_countries.close()\n",
    "final_json_file = open(\"job-portal-countries-cities\", \"w\")\n",
    "final_list = []\n",
    "\n",
    "def create_final_json():\n",
    "    MAIN_URL = \"https://service.unece.org/trade/locode/\"\n",
    "    for i in range(247, len(all_countries)):\n",
    "        current_country_data = all_countries[i].split(\",\")\n",
    "        country_code_input = current_country_data[0].lower()\n",
    "        country_name_input = current_country_data[1]\n",
    "        final_url = f'{MAIN_URL}{country_code_input}.htm'\n",
    "        print(f'Processing: {final_url}')\n",
    "        response = requests.get(final_url)\n",
    "        if response.status_code == 200:\n",
    "            html_text = HTML(html=response.text)\n",
    "            all_rows = html_text.find(\"table[border='1']\")[0]\n",
    "            all_rows = all_rows.find(\"tr\")\n",
    "            list_of_cities = []\n",
    "            for i in range(1, len(all_rows)):\n",
    "                single_row = all_rows[i].find(\"td\")\n",
    "                city_code = single_row[1].text\n",
    "                city_name = single_row[2].text\n",
    "                single_state_object = {\"cityCode\": city_code, \"cityName\": city_name}\n",
    "                list_of_cities.append(single_state_object)\n",
    "            current_dict_country = {\"countryName\": country_name_input, \"countryCode\": country_code_input, \"link\": final_url, \"cities\": list_of_cities}\n",
    "            final_list.append(current_dict_country)\n",
    "json.dump(final_list, final_json_file)\n",
    "create_final_json()\n",
    "json.dump(final_list, final_json_file)"
   ]
  },
  {
   "cell_type": "code",
   "execution_count": null,
   "metadata": {},
   "outputs": [],
   "source": [
    "json.dump(final_list, final_json_file)\n"
   ]
  }
 ],
 "metadata": {
  "kernelspec": {
   "display_name": "Python 3",
   "language": "python",
   "name": "python3"
  },
  "language_info": {
   "codemirror_mode": {
    "name": "ipython",
    "version": 3
   },
   "file_extension": ".py",
   "mimetype": "text/x-python",
   "name": "python",
   "nbconvert_exporter": "python",
   "pygments_lexer": "ipython3",
   "version": "3.8.5"
  }
 },
 "nbformat": 4,
 "nbformat_minor": 1
}